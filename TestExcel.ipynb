{
 "cells": [
  {
   "cell_type": "code",
   "execution_count": 1,
   "metadata": {},
   "outputs": [],
   "source": [
    "from officepy import customfunctions\n",
    "\n",
    "@customfunctions.customfunction(\"MYADD\")\n",
    "def myadd(a, b):\n",
    "    return a + b"
   ]
  },
  {
   "cell_type": "code",
   "execution_count": 1,
   "metadata": {},
   "outputs": [],
   "source": [
    "from officepy import customfunctions as cf\n",
    "import statistics\n",
    "@cf.customfunction(\"PYSTDEV\", \n",
    "                    parameters=[\n",
    "                        cf.ParameterInfo(dimensionality=cf.Dimensionality.matrix)])\n",
    "def pystdev(data):\n",
    "    flatList = [item for sublist in data for item in sublist]\n",
    "    return statistics.stdev(flatList)\n"
   ]
  },
  {
   "cell_type": "code",
   "execution_count": 3,
   "metadata": {},
   "outputs": [],
   "source": [
    "import pandas as pd\n",
    "import numpy as np\n",
    "from officepy import customfunctions as cf\n",
    "@cf.customfunction(\"TestPanda\", resultDimensionality=cf.Dimensionality.matrix)\n",
    "def random_dataframe(rows, columns):\n",
    "    data = np.random.rand(rows, columns)\n",
    "    column_names = [chr(ord('A') + x) for x in range(columns)]\n",
    "    df = pd.DataFrame(data, columns=column_names)\n",
    "    df['strings'] = 'hello'\n",
    "    return df.values.tolist()\n"
   ]
  },
  {
   "cell_type": "code",
   "execution_count": 9,
   "metadata": {},
   "outputs": [
    {
     "data": {
      "text/plain": [
       "[[0.09946006307221389, 0.4072043181213588, 0.6318074352422913, 'hello'],\n",
       " [0.9863237414463584, 0.9403089313890566, 0.27135300030635845, 'hello']]"
      ]
     },
     "execution_count": 9,
     "metadata": {},
     "output_type": "execute_result"
    }
   ],
   "source": [
    "random_dataframe(2,3)"
   ]
  },
  {
   "cell_type": "code",
   "execution_count": 3,
   "metadata": {},
   "outputs": [
    {
     "name": "stdout",
     "output_type": "stream",
     "text": [
      "done\n"
     ]
    }
   ],
   "source": [
    "from officepy import customfunctionmanager\n",
    "customfunctionmanager.register()\n",
    "print('done')"
   ]
  },
  {
   "cell_type": "code",
   "execution_count": 10,
   "metadata": {},
   "outputs": [],
   "source": [
    "from officepy import excel\n",
    "workbook = excel.getWorkbook()\n",
    "sheet = workbook.worksheets[\"Sheet1\"]\n",
    "sheet[\"A1\"] = [\"Hello\", \"World\", \"Bellevue\"]"
   ]
  },
  {
   "cell_type": "code",
   "execution_count": 12,
   "metadata": {},
   "outputs": [],
   "source": [
    "sheet[\"A3\"] = [\"Redmond\", 4, 6]"
   ]
  },
  {
   "cell_type": "markdown",
   "metadata": {},
   "source": [
    "To run the following auth related tests, please do not use files from microsoft-my.sharepoint.com as the Microsoft tenant requires tenant admin previlege to use oAuth."
   ]
  },
  {
   "cell_type": "code",
   "execution_count": 4,
   "metadata": {},
   "outputs": [],
   "source": [
    "import json\n",
    "import requests\n",
    "from officepy import auth\n",
    "from officepy import excel\n",
    "\n",
    "oauthToken = auth.getMicrosoftGraphOAuthToken()\n",
    "\n",
    "headers = {\n",
    "    \"Content-Type\": \"application/json\",\n",
    "    \"Accept\": \"application/json\",\n",
    "    \"Authorization\": \"Bearer \" + oauthToken.access_token\n",
    "}\n",
    "response = requests.get(\"https://graph.microsoft.com/v1.0/me/drive/root/children\", headers = headers)\n",
    "responseObj = response.json()\n",
    "fileLists = responseObj.get(\"value\")\n",
    "\n",
    "rangeData = [ [onefile.get(\"name\")] for onefile in fileLists]\n",
    "workbook = excel.getWorkbook()\n",
    "sheet = workbook.worksheets['Sheet1']\n",
    "sheet[\"A1\"] = rangeData\n"
   ]
  },
  {
   "cell_type": "code",
   "execution_count": 9,
   "metadata": {},
   "outputs": [],
   "source": [
    "from officepy import excel\n",
    "import pandas as pd\n",
    "\n",
    "workbook = excel.getWorkbook()\n",
    "values = workbook.worksheets[\"Sheet2\"].getAllValues()\n",
    "df = pd.DataFrame.from_records(values)\n"
   ]
  },
  {
   "cell_type": "code",
   "execution_count": 11,
   "metadata": {},
   "outputs": [
    {
     "data": {
      "text/plain": [
       "98007"
      ]
     },
     "execution_count": 11,
     "metadata": {},
     "output_type": "execute_result"
    }
   ],
   "source": [
    "df.iloc[0,1]"
   ]
  },
  {
   "cell_type": "code",
   "execution_count": 9,
   "metadata": {},
   "outputs": [],
   "source": [
    "sheet2 = workbook.worksheets['Sheet2']\n",
    "sheet2[\"A1\"] = values"
   ]
  },
  {
   "cell_type": "code",
   "execution_count": 13,
   "metadata": {},
   "outputs": [],
   "source": [
    "from officepy import excel\n",
    "import datetime\n",
    "import random\n",
    "\n",
    "curdate = datetime.datetime.now().strftime(\"%c\")\n",
    "workbook = excel.getWorkbook()\n",
    "values = [[\"Bellevue\", \"Seattle\"], [random.random(), \"=A2 + 2\"], [curdate, random.random()]]\n",
    "sheet = workbook.worksheets[\"Sheet1\"]\n",
    "sheet[\"A1\"] = values\n",
    "if sheet[1,1] > 2.2:\n",
    "    sheet.getCell(1,1).format.font.color = 'red'\n"
   ]
  },
  {
   "cell_type": "code",
   "execution_count": 6,
   "metadata": {},
   "outputs": [
    {
     "data": {
      "text/plain": [
       "<officepy.excel.Shape at 0xe7ec50>"
      ]
     },
     "execution_count": 6,
     "metadata": {},
     "output_type": "execute_result"
    }
   ],
   "source": [
    "import io\n",
    "import matplotlib.pyplot as plt\n",
    "import base64\n",
    "from officepy import excel\n",
    "from officepy import runtime\n",
    "\n",
    "plt.figure()\n",
    "plt.plot([1, 2])\n",
    "plt.title(\"test\")\n",
    "buf = io.BytesIO()\n",
    "plt.savefig(buf, format='png')\n",
    "buf.seek(0)\n",
    "imgBytes = base64.b64encode(buf.read())\n",
    "imgString = imgBytes.decode('ascii')\n",
    "buf.close()\n",
    "workbook = excel.getWorkbook()\n",
    "sheet = workbook.worksheets[\"Sheet1\"]\n",
    "sheet.shapes.addImage(imgString)\n"
   ]
  },
  {
   "cell_type": "code",
   "execution_count": 3,
   "metadata": {},
   "outputs": [
    {
     "data": {
      "text/plain": [
       "'{\"result\": [[0.41119430020935965, 0.38540613634966003, \"hello\"]], \"error\": 0}'"
      ]
     },
     "execution_count": 3,
     "metadata": {},
     "output_type": "execute_result"
    }
   ],
   "source": [
    "from officepy import customfunctions\n",
    "customfunctions.invoke(\"random_dataframe\", '[1,2]')"
   ]
  },
  {
   "cell_type": "code",
   "execution_count": 7,
   "metadata": {},
   "outputs": [
    {
     "ename": "NameError",
     "evalue": "name 'random_dataframe' is not defined",
     "output_type": "error",
     "traceback": [
      "\u001b[1;31m---------------------------------------------------------------------------\u001b[0m",
      "\u001b[1;31mNameError\u001b[0m                                 Traceback (most recent call last)",
      "\u001b[1;32m<ipython-input-7-833e808eba35>\u001b[0m in \u001b[0;36m<module>\u001b[1;34m\u001b[0m\n\u001b[1;32m----> 1\u001b[1;33m \u001b[0mrandom_dataframe\u001b[0m\u001b[1;33m(\u001b[0m\u001b[1;36m2\u001b[0m\u001b[1;33m,\u001b[0m\u001b[1;36m3\u001b[0m\u001b[1;33m)\u001b[0m\u001b[1;33m\u001b[0m\u001b[1;33m\u001b[0m\u001b[0m\n\u001b[0m",
      "\u001b[1;31mNameError\u001b[0m: name 'random_dataframe' is not defined"
     ]
    }
   ],
   "source": [
    "random_dataframe(2,3)\n"
   ]
  }
 ],
 "metadata": {
  "kernelspec": {
   "display_name": "Python 3",
   "language": "python",
   "name": "python3"
  },
  "language_info": {
   "codemirror_mode": {
    "name": "ipython",
    "version": 3
   },
   "file_extension": ".py",
   "mimetype": "text/x-python",
   "name": "python",
   "nbconvert_exporter": "python",
   "pygments_lexer": "ipython3",
   "version": "3.7.4"
  }
 },
 "nbformat": 4,
 "nbformat_minor": 2
}
